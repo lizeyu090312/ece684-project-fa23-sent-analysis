{
 "cells": [
  {
   "cell_type": "code",
   "execution_count": 5,
   "metadata": {},
   "outputs": [
    {
     "name": "stderr",
     "output_type": "stream",
     "text": [
      "/home/zl310/anaconda3/envs/michael_ece684/lib/python3.8/site-packages/transformers/generation/configuration_utils.py:386: UserWarning: `do_sample` is set to `False`. However, `top_p` is set to `0.7` -- this flag is only used in sample-based generation modes. You should set `do_sample=True` or unset `top_p`.\n",
      "  warnings.warn(\n",
      "/home/zl310/anaconda3/envs/michael_ece684/lib/python3.8/site-packages/transformers/generation/configuration_utils.py:396: UserWarning: `do_sample` is set to `False`. However, `top_k` is set to `500` -- this flag is only used in sample-based generation modes. You should set `do_sample=True` or unset `top_k`.\n",
      "  warnings.warn(\n",
      "Setting `pad_token_id` to `eos_token_id`:50256 for open-end generation.\n",
      "Setting `pad_token_id` to `eos_token_id`:50256 for open-end generation.\n"
     ]
    }
   ],
   "source": [
    "# Load model directly\n",
    "from transformers import AutoModelForCausalLM, AutoTokenizer\n",
    "from transformers import set_seed\n",
    "set_seed(999)\n",
    "\n",
    "import torch\n",
    "device = torch.device(\"cuda\" if torch.cuda.is_available() else \"cpu\")\n",
    "\n",
    "f_name = 'IMDB_synthetic.csv'\n",
    "\n",
    "import os\n",
    "if f_name not in os.listdir('./'):\n",
    "    f_ptr = open(f_name, 'w')\n",
    "else:\n",
    "    f_ptr = open(f_name, 'a')\n",
    "\n",
    "# Set beam search parameters\n",
    "num_beams = num_seqs = 10\n",
    "top_k = 500\n",
    "top_p = 0.7\n",
    "div_pen = 4.0\n",
    "repetition_penalty = 2.5\n",
    "temperature = 1.0\n",
    "\n",
    "\n",
    "def write_data(positive):\n",
    "    p_dict = {True: \"positive\", False: \"negative\"}\n",
    "    prompt = p_dict[positive] + \": This movie is\"\n",
    "    tokenizer = AutoTokenizer.from_pretrained(\"lvwerra/gpt2-imdb-pos\")\n",
    "    model = AutoModelForCausalLM.from_pretrained(\"lvwerra/gpt2-imdb-pos\").to(device)\n",
    "    input_ids = tokenizer.encode(prompt, return_tensors='pt').to(device)\n",
    "    attention_mask = torch.ones(input_ids.shape, dtype=torch.long, device=input_ids.device)\n",
    "\n",
    "    output = model.generate(input_ids, max_length=256, num_return_sequences=num_seqs, num_beams=num_beams, top_k=top_k, top_p=top_p, \n",
    "                            num_beam_groups=num_beams, diversity_penalty=div_pen, temperature=temperature, early_stopping=False, \n",
    "                            repetition_penalty=repetition_penalty, attention_mask=attention_mask)\n",
    "    for i, review in enumerate(output):\n",
    "        generated_review = tokenizer.decode(review, skip_special_tokens=True)[24:]\n",
    "        # print(f\"Generated review {i+1}: {generated_review}\")\n",
    "        f_ptr.write(\"\\\"%s\\\",%s\\n\" % (generated_review, p_dict[positive]))\n",
    "    return\n",
    "\n",
    "write_data(True)\n",
    "write_data(False)"
   ]
  },
  {
   "cell_type": "code",
   "execution_count": 1,
   "metadata": {},
   "outputs": [
    {
     "name": "stdout",
     "output_type": "stream",
     "text": [
      "24\n"
     ]
    }
   ],
   "source": [
    "print(len('Positive: This movie is '))"
   ]
  }
 ],
 "metadata": {
  "kernelspec": {
   "display_name": "michael_ece684",
   "language": "python",
   "name": "python3"
  },
  "language_info": {
   "codemirror_mode": {
    "name": "ipython",
    "version": 3
   },
   "file_extension": ".py",
   "mimetype": "text/x-python",
   "name": "python",
   "nbconvert_exporter": "python",
   "pygments_lexer": "ipython3",
   "version": "3.8.0"
  }
 },
 "nbformat": 4,
 "nbformat_minor": 2
}
