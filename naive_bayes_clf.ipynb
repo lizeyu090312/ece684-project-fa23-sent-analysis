{
 "cells": [
  {
   "cell_type": "code",
   "execution_count": 17,
   "metadata": {},
   "outputs": [
    {
     "name": "stderr",
     "output_type": "stream",
     "text": [
      "/home/zl310/anaconda3/envs/michael_ece684/lib/python3.8/site-packages/sklearn/feature_extraction/text.py:525: UserWarning: The parameter 'token_pattern' will not be used since 'tokenizer' is not None'\n",
      "  warnings.warn(\n"
     ]
    },
    {
     "name": "stdout",
     "output_type": "stream",
     "text": [
      "0.8568666666666667\n"
     ]
    }
   ],
   "source": [
    "\"\"\"Sentiment Analysis, Naive Bayes\n",
    "Group members: Michael (Zeyu) Li (zl310) and Chengyang Zhou (cz169)\"\"\"\n",
    "\n",
    "# referred to this https://github.com/DrManishSharma/NLP/blob/master/SentiAnalysis.ipynb\n",
    "import matplotlib.pyplot as plt\n",
    "\n",
    "import numpy as np\n",
    "from sklearn.naive_bayes import GaussianNB, MultinomialNB\n",
    "from sklearn.feature_extraction.text import CountVectorizer\n",
    "from sklearn.model_selection import train_test_split\n",
    "\n",
    "\n",
    "from nltk.tokenize import RegexpTokenizer\n",
    "\n",
    "import pandas as pd\n",
    "\n",
    "dataset = df = pd.read_csv('./IMDBDataset.csv')\n",
    "token = RegexpTokenizer(r'[a-zA-Z0-9]+')\n",
    "cv = CountVectorizer(stop_words='english', ngram_range=(1, 1), tokenizer=token.tokenize)\n",
    "text_counts = cv.fit_transform(dataset['review'])\n",
    "\n",
    "X_train, X_test, Y_train, Y_test = train_test_split(text_counts, dataset['sentiment'], test_size=0.3, random_state=5)\n",
    "MNB = MultinomialNB()\n",
    "MNB.fit(X_train, Y_train)\n",
    "print(MNB.score(X_test, Y_test))"
   ]
  }
 ],
 "metadata": {
  "kernelspec": {
   "display_name": "michael_ece684",
   "language": "python",
   "name": "python3"
  },
  "language_info": {
   "codemirror_mode": {
    "name": "ipython",
    "version": 3
   },
   "file_extension": ".py",
   "mimetype": "text/x-python",
   "name": "python",
   "nbconvert_exporter": "python",
   "pygments_lexer": "ipython3",
   "version": "3.8.0"
  }
 },
 "nbformat": 4,
 "nbformat_minor": 2
}
