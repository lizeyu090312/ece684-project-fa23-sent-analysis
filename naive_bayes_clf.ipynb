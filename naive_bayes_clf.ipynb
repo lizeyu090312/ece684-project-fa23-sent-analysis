{
 "cells": [
  {
   "cell_type": "code",
   "execution_count": 25,
   "metadata": {},
   "outputs": [
    {
     "name": "stderr",
     "output_type": "stream",
     "text": [
      "[nltk_data] Downloading package punkt to /home/zl310/nltk_data...\n",
      "[nltk_data]   Package punkt is already up-to-date!\n",
      "[nltk_data] Downloading package gutenberg to /home/zl310/nltk_data...\n",
      "[nltk_data]   Package gutenberg is already up-to-date!\n"
     ]
    }
   ],
   "source": [
    "\"\"\"Compare token/document vectors for classification.\n",
    "Group members: Michael (Zeyu) Li (zl310) and Chengyang Zhou (cz169)\"\"\"\n",
    "import random\n",
    "from typing import List, Mapping, Optional, Sequence, Tuple\n",
    "# import matplotlib.pyplot as plt\n",
    "\n",
    "import nltk\n",
    "nltk.download('punkt')\n",
    "nltk.download('gutenberg')\n",
    "import numpy as np\n",
    "from numpy.typing import NDArray\n",
    "from sklearn.feature_extraction.text import TfidfTransformer\n",
    "from sklearn.naive_bayes import GaussianNB\n",
    "from sklearn.decomposition import TruncatedSVD\n",
    "\n",
    "FloatArray = NDArray[np.float64]\n",
    "\n",
    "# Un-comment this to fix the random seed\n",
    "random.seed(31)\n",
    "\n",
    "austen = nltk.corpus.gutenberg.sents(\"austen-sense.txt\")\n",
    "carroll = nltk.corpus.gutenberg.sents(\"carroll-alice.txt\")\n",
    "\n",
    "vocabulary = sorted(\n",
    "    set(token for sentence in austen + carroll for token in sentence)\n",
    ") + [None]\n",
    "vocabulary_map = {token: idx for idx, token in enumerate(vocabulary)}\n",
    "\n",
    "\n",
    "def onehot(\n",
    "    vocab_map: Mapping[Optional[str], int], token: Optional[str]\n",
    ") -> FloatArray:\n",
    "    \"\"\"Generate the one-hot encoding for the provided token in the provided vocabulary.\"\"\"\n",
    "    embedding = np.zeros((len(vocab_map),))\n",
    "    idx = vocab_map.get(token, len(vocab_map) - 1)\n",
    "    embedding[idx] = 1\n",
    "    return embedding\n",
    "\n",
    "\n",
    "def sum_token_embeddings(\n",
    "    token_embeddings: Sequence[FloatArray],\n",
    ") -> FloatArray:\n",
    "    \"\"\"Sum the token embeddings.\"\"\"\n",
    "    assert len(token_embeddings) > 0, \"len(input) == 0 in sum_token_embeddings\"\n",
    "    total: FloatArray = np.array(token_embeddings).sum(axis=0)\n",
    "    return total\n",
    "\n",
    "\n",
    "def split_train_test(\n",
    "    X: FloatArray, y: FloatArray, test_percent: float = 10\n",
    ") -> Tuple[FloatArray, FloatArray, FloatArray, FloatArray]:\n",
    "    \"\"\"Split data into training and testing sets.\"\"\"\n",
    "    N = len(y)\n",
    "    data_idx = list(range(N))\n",
    "    random.shuffle(data_idx)\n",
    "    break_idx = round(test_percent / 100 * N)\n",
    "    training_idx = data_idx[break_idx:]\n",
    "    testing_idx = data_idx[:break_idx]\n",
    "    X_train = X[training_idx, :]\n",
    "    y_train = y[training_idx]\n",
    "    X_test = X[testing_idx, :]\n",
    "    y_test = y[testing_idx]\n",
    "    return X_train, y_train, X_test, y_test\n",
    "\n",
    "\n",
    "def generate_data_token_counts(\n",
    "    h0_documents: List[List[str]], h1_documents: List[List[str]]\n",
    ") -> Tuple[FloatArray, FloatArray, FloatArray, FloatArray]:\n",
    "    \"\"\"Generate training and testing data with raw token counts.\"\"\"\n",
    "    X: FloatArray = np.array(\n",
    "        [\n",
    "            sum_token_embeddings(\n",
    "                [onehot(vocabulary_map, token) for token in sentence]\n",
    "            )\n",
    "            for sentence in h0_documents\n",
    "        ]\n",
    "        + [\n",
    "            sum_token_embeddings(\n",
    "                [onehot(vocabulary_map, token) for token in sentence]\n",
    "            )\n",
    "            for sentence in h1_documents\n",
    "        ]\n",
    "    )\n",
    "    y: FloatArray = np.array(\n",
    "        [0 for sentence in h0_documents] + [1 for sentence in h1_documents]\n",
    "    )\n",
    "    # print(X.shape, y.shape, len(h1_documents) + len(h0_documents))\n",
    "    return split_train_test(X, y)\n",
    "\n",
    "\n",
    "def generate_data_tfidf(\n",
    "    h0_documents: List[List[str]], h1_documents: List[List[str]]\n",
    ") -> Tuple[FloatArray, FloatArray, FloatArray, FloatArray]:\n",
    "    \"\"\"Generate training and testing data with TF-IDF scaling.\"\"\"\n",
    "    X_train, y_train, X_test, y_test = generate_data_token_counts(\n",
    "        h0_documents, h1_documents\n",
    "    )\n",
    "    tfidf = TfidfTransformer(norm=None).fit(X_train)\n",
    "    X_train = tfidf.transform(X_train)\n",
    "    X_test = tfidf.transform(X_test)\n",
    "    return X_train, y_train, X_test, y_test\n",
    "\n",
    "\n",
    "def apply_svd(xtrain, xtest, dimens=500):\n",
    "    t_svd = TruncatedSVD(dimens)  # plot the singular values - how much info do we lose?\n",
    "    t_svd.fit(xtrain)\n",
    "    xtrain = t_svd.transform(xtrain)\n",
    "    xtest = t_svd.transform(xtest)\n",
    "    return xtrain, xtest\n"
   ]
  },
  {
   "cell_type": "code",
   "execution_count": 22,
   "metadata": {},
   "outputs": [],
   "source": [
    "X_train, y_train, X_test, y_test = generate_data_tfidf(austen, carroll)"
   ]
  },
  {
   "cell_type": "code",
   "execution_count": 26,
   "metadata": {},
   "outputs": [
    {
     "ename": "TypeError",
     "evalue": "fit() got an unexpected keyword argument 'dimens'",
     "output_type": "error",
     "traceback": [
      "\u001b[0;31m---------------------------------------------------------------------------\u001b[0m",
      "\u001b[0;31mTypeError\u001b[0m                                 Traceback (most recent call last)",
      "\u001b[1;32m/home/zl310/ece684-project-fa23/naive_bayes_clf.ipynb Cell 3\u001b[0m line \u001b[0;36m4\n\u001b[1;32m      <a href='vscode-notebook-cell://ssh-remote%2Btc319-srv1.egr.duke.edu/home/zl310/ece684-project-fa23/naive_bayes_clf.ipynb#W3sdnNjb2RlLXJlbW90ZQ%3D%3D?line=0'>1</a>\u001b[0m \u001b[39m# print(X_train.shape)\u001b[39;00m\n\u001b[1;32m      <a href='vscode-notebook-cell://ssh-remote%2Btc319-srv1.egr.duke.edu/home/zl310/ece684-project-fa23/naive_bayes_clf.ipynb#W3sdnNjb2RlLXJlbW90ZQ%3D%3D?line=1'>2</a>\u001b[0m X_train_down, X_test_down \u001b[39m=\u001b[39m apply_svd(X_train, X_test)\n\u001b[0;32m----> <a href='vscode-notebook-cell://ssh-remote%2Btc319-srv1.egr.duke.edu/home/zl310/ece684-project-fa23/naive_bayes_clf.ipynb#W3sdnNjb2RlLXJlbW90ZQ%3D%3D?line=3'>4</a>\u001b[0m clf \u001b[39m=\u001b[39m GaussianNB()\u001b[39m.\u001b[39;49mfit(X_train, y_train, dimens\u001b[39m=\u001b[39;49m\u001b[39m450\u001b[39;49m)\n\u001b[1;32m      <a href='vscode-notebook-cell://ssh-remote%2Btc319-srv1.egr.duke.edu/home/zl310/ece684-project-fa23/naive_bayes_clf.ipynb#W3sdnNjb2RlLXJlbW90ZQ%3D%3D?line=4'>5</a>\u001b[0m \u001b[39mprint\u001b[39m(\u001b[39m\"\u001b[39m\u001b[39mtfidf (train, GaussianNB):\u001b[39m\u001b[39m\"\u001b[39m, clf\u001b[39m.\u001b[39mscore(X_train_down, y_train))\n\u001b[1;32m      <a href='vscode-notebook-cell://ssh-remote%2Btc319-srv1.egr.duke.edu/home/zl310/ece684-project-fa23/naive_bayes_clf.ipynb#W3sdnNjb2RlLXJlbW90ZQ%3D%3D?line=5'>6</a>\u001b[0m \u001b[39mprint\u001b[39m(\u001b[39m\"\u001b[39m\u001b[39mtfidf (test, GaussianNB):\u001b[39m\u001b[39m\"\u001b[39m, clf\u001b[39m.\u001b[39mscore(X_test_down, y_test))\n",
      "File \u001b[0;32m~/anaconda3/envs/michael_ece684/lib/python3.8/site-packages/sklearn/base.py:1151\u001b[0m, in \u001b[0;36m_fit_context.<locals>.decorator.<locals>.wrapper\u001b[0;34m(estimator, *args, **kwargs)\u001b[0m\n\u001b[1;32m   1144\u001b[0m     estimator\u001b[39m.\u001b[39m_validate_params()\n\u001b[1;32m   1146\u001b[0m \u001b[39mwith\u001b[39;00m config_context(\n\u001b[1;32m   1147\u001b[0m     skip_parameter_validation\u001b[39m=\u001b[39m(\n\u001b[1;32m   1148\u001b[0m         prefer_skip_nested_validation \u001b[39mor\u001b[39;00m global_skip_validation\n\u001b[1;32m   1149\u001b[0m     )\n\u001b[1;32m   1150\u001b[0m ):\n\u001b[0;32m-> 1151\u001b[0m     \u001b[39mreturn\u001b[39;00m fit_method(estimator, \u001b[39m*\u001b[39;49margs, \u001b[39m*\u001b[39;49m\u001b[39m*\u001b[39;49mkwargs)\n",
      "\u001b[0;31mTypeError\u001b[0m: fit() got an unexpected keyword argument 'dimens'"
     ]
    }
   ],
   "source": [
    "# print(X_train.shape)\n",
    "X_train_down, X_test_down = apply_svd(X_train, X_test, dimens=450)\n",
    "\n",
    "clf = GaussianNB().fit(X_train, y_train)\n",
    "print(\"tfidf (train, GaussianNB):\", clf.score(X_train_down, y_train))\n",
    "print(\"tfidf (test, GaussianNB):\", clf.score(X_test_down, y_test))"
   ]
  }
 ],
 "metadata": {
  "kernelspec": {
   "display_name": "michael_ece684",
   "language": "python",
   "name": "python3"
  },
  "language_info": {
   "codemirror_mode": {
    "name": "ipython",
    "version": 3
   },
   "file_extension": ".py",
   "mimetype": "text/x-python",
   "name": "python",
   "nbconvert_exporter": "python",
   "pygments_lexer": "ipython3",
   "version": "3.8.0"
  }
 },
 "nbformat": 4,
 "nbformat_minor": 2
}
